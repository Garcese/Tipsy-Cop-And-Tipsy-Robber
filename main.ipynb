{
 "cells": [
  {
   "cell_type": "code",
   "execution_count": null,
   "metadata": {},
   "outputs": [],
   "source": [
    "# Modules\n",
    "using Pkg\n",
    "import Cairo, Fontconfig\n",
    "using Compose\n",
    "using Graphs\n",
    "    Graph = Graphs.Graph\n",
    "using GraphPlot\n",
    "using InvertedIndices\n",
    "    Not = InvertedIndices.Not # conflicts with SymPy \"Not()\"\n",
    "using Latexify\n",
    "using LinearAlgebra\n",
    "using Plots\n",
    "using Printf\n",
    "using Revise\n",
    "using Symbolics\n",
    "    simplify = Symbolics.simplify # conflicts with something\n",
    "using SymPy\n",
    "\n",
    "# My Modules#\n",
    "includet(\"graphs.jl\")\n",
    "includet(\"helper.jl\")\n",
    "includet(\"matrix.jl\")\n",
    "includet(\"simulation.jl\")"
   ]
  },
  {
   "cell_type": "code",
   "execution_count": null,
   "metadata": {},
   "outputs": [],
   "source": [
    "simulation(hyper3, 1, 2, animate = true)"
   ]
  },
  {
   "cell_type": "code",
   "execution_count": null,
   "metadata": {},
   "outputs": [],
   "source": [
    "gen_matrix(3)"
   ]
  },
  {
   "cell_type": "code",
   "execution_count": null,
   "metadata": {},
   "outputs": [],
   "source": [
    "prod_pivots(4) |> display\n",
    "prod_pivots(4, symbolic = true) |> display\n",
    "prod_pivots(4, shift = 1) |> display"
   ]
  },
  {
   "cell_type": "code",
   "execution_count": 12,
   "metadata": {},
   "outputs": [
    {
     "data": {
      "text/plain": [
       "\"------\""
      ]
     },
     "metadata": {},
     "output_type": "display_data"
    },
    {
     "data": {
      "text/latex": [
       "$S_{2ˏ 1}$"
      ],
      "text/plain": [
       "S_2ˏ_1"
      ]
     },
     "metadata": {},
     "output_type": "display_data"
    },
    {
     "data": {
      "text/latex": [
       "$S_{1ˏ 1} X_{2}$"
      ],
      "text/plain": [
       "S_1ˏ_1⋅X₂"
      ]
     },
     "metadata": {},
     "output_type": "display_data"
    },
    {
     "data": {
      "text/plain": [
       "\"------\""
      ]
     },
     "metadata": {},
     "output_type": "display_data"
    },
    {
     "data": {
      "text/latex": [
       "$S_{3ˏ 1}$"
      ],
      "text/plain": [
       "S_3ˏ_1"
      ]
     },
     "metadata": {},
     "output_type": "display_data"
    },
    {
     "data": {
      "text/latex": [
       "$S_{1ˏ 1} \\left(S_{2ˏ 2} + X_{2} X_{3}\\right)$"
      ],
      "text/plain": [
       "S_1ˏ_1⋅(S_2ˏ_2 + X₂⋅X₃)"
      ]
     },
     "metadata": {},
     "output_type": "display_data"
    },
    {
     "data": {
      "text/latex": [
       "$S_{2ˏ 1} X_{3}$"
      ],
      "text/plain": [
       "S_2ˏ_1⋅X₃"
      ]
     },
     "metadata": {},
     "output_type": "display_data"
    },
    {
     "data": {
      "text/plain": [
       "\"------\""
      ]
     },
     "metadata": {},
     "output_type": "display_data"
    },
    {
     "data": {
      "text/latex": [
       "$S_{4ˏ 1}$"
      ],
      "text/plain": [
       "S_4ˏ_1"
      ]
     },
     "metadata": {},
     "output_type": "display_data"
    },
    {
     "data": {
      "text/latex": [
       "$S_{1ˏ 1} \\left(S_{2ˏ 2} X_{4} + S_{2ˏ 3} X_{2} + S_{3ˏ 2} + X_{2} X_{3} X_{4}\\right)$"
      ],
      "text/plain": [
       "S_1ˏ_1⋅(S_2ˏ_2⋅X₄ + S_2ˏ_3⋅X₂ + S_3ˏ_2 + X₂⋅X₃⋅X₄)"
      ]
     },
     "metadata": {},
     "output_type": "display_data"
    },
    {
     "data": {
      "text/latex": [
       "$S_{2ˏ 1} \\left(S_{2ˏ 3} + X_{3} X_{4}\\right)$"
      ],
      "text/plain": [
       "S_2ˏ_1⋅(S_2ˏ_3 + X₃⋅X₄)"
      ]
     },
     "metadata": {},
     "output_type": "display_data"
    },
    {
     "data": {
      "text/latex": [
       "$S_{3ˏ 1} X_{4}$"
      ],
      "text/plain": [
       "S_3ˏ_1⋅X₄"
      ]
     },
     "metadata": {},
     "output_type": "display_data"
    },
    {
     "data": {
      "text/plain": [
       "\"------\""
      ]
     },
     "metadata": {},
     "output_type": "display_data"
    },
    {
     "data": {
      "text/latex": [
       "$S_{5ˏ 1}$"
      ],
      "text/plain": [
       "S_5ˏ_1"
      ]
     },
     "metadata": {},
     "output_type": "display_data"
    },
    {
     "data": {
      "text/latex": [
       "$S_{1ˏ 1} \\left(S_{2ˏ 2} S_{2ˏ 4} + S_{2ˏ 2} X_{4} X_{5} + S_{2ˏ 3} X_{2} X_{5} + S_{2ˏ 4} X_{2} X_{3} + S_{3ˏ 2} X_{5} + S_{3ˏ 3} X_{2} + S_{4ˏ 2} + X_{2} X_{3} X_{4} X_{5}\\right)$"
      ],
      "text/plain": [
       "S_1ˏ_1⋅(S_2ˏ_2⋅S_2ˏ_4 + S_2ˏ_2⋅X₄⋅X₅ + S_2ˏ_3⋅X₂⋅X₅ + S_2ˏ_4⋅X₂⋅X₃ + S_3ˏ_2⋅X₅\n",
       " + S_3ˏ_3⋅X₂ + S_4ˏ_2 + X₂⋅X₃⋅X₄⋅X₅)"
      ]
     },
     "metadata": {},
     "output_type": "display_data"
    },
    {
     "data": {
      "text/latex": [
       "$S_{2ˏ 1} \\left(S_{2ˏ 3} X_{5} + S_{2ˏ 4} X_{3} + S_{3ˏ 3} + X_{3} X_{4} X_{5}\\right)$"
      ],
      "text/plain": [
       "S_2ˏ_1⋅(S_2ˏ_3⋅X₅ + S_2ˏ_4⋅X₃ + S_3ˏ_3 + X₃⋅X₄⋅X₅)"
      ]
     },
     "metadata": {},
     "output_type": "display_data"
    },
    {
     "data": {
      "text/latex": [
       "$S_{3ˏ 1} \\left(S_{2ˏ 4} + X_{4} X_{5}\\right)$"
      ],
      "text/plain": [
       "S_3ˏ_1⋅(S_2ˏ_4 + X₄⋅X₅)"
      ]
     },
     "metadata": {},
     "output_type": "display_data"
    },
    {
     "data": {
      "text/latex": [
       "$S_{4ˏ 1} X_{5}$"
      ],
      "text/plain": [
       "S_4ˏ_1⋅X₅"
      ]
     },
     "metadata": {},
     "output_type": "display_data"
    },
    {
     "data": {
      "text/plain": [
       "\"------\""
      ]
     },
     "metadata": {},
     "output_type": "display_data"
    }
   ],
   "source": [
    "for i in 1:5\n",
    "    for j in gen_det(i, symbolic = true, Xs = true) |> PyObject |> \n",
    "    x -> sympy.collect(x, [\"S_1ˏ_1\", \"S_2ˏ_1\", \"S_3ˏ_1\", \"S_4ˏ_1\", \"S_5ˏ_1\", \"S_6ˏ_1\"]) |> \n",
    "    x -> x.args\n",
    "    \n",
    "    display(j)\n",
    "    end\n",
    "    display(\"------\")\n",
    "end"
   ]
  },
  {
   "cell_type": "code",
   "execution_count": 11,
   "metadata": {},
   "outputs": [
    {
     "data": {
      "text/plain": [
       "\"n = 1\""
      ]
     },
     "metadata": {},
     "output_type": "display_data"
    },
    {
     "data": {
      "text/latex": [
       "$\\left[ \\begin{array}{r}c_{1}\\end{array}\\right]$\n"
      ],
      "text/plain": [
       "1×1 Matrix{Sym}:\n",
       " c₁"
      ]
     },
     "metadata": {},
     "output_type": "display_data"
    },
    {
     "data": {
      "text/plain": [
       "\"Determinant, 1 term(s).\""
      ]
     },
     "metadata": {},
     "output_type": "display_data"
    },
    {
     "data": {
      "text/latex": [
       "$c_{1}$"
      ],
      "text/plain": [
       "c₁"
      ]
     },
     "metadata": {},
     "output_type": "display_data"
    },
    {
     "data": {
      "text/plain": [
       "\"n = 2\""
      ]
     },
     "metadata": {},
     "output_type": "display_data"
    },
    {
     "data": {
      "text/latex": [
       "$\\left[ \\begin{array}{rr}c_{1} + f_{1}&- f_{1}\\\\- c_{2}&C_{2} + c_{2}\\end{array}\\right]$\n"
      ],
      "text/plain": [
       "2×2 Matrix{Sym}:\n",
       " c₁ + f₁       -f₁\n",
       "      -c₂  C₂ + c₂"
      ]
     },
     "metadata": {},
     "output_type": "display_data"
    },
    {
     "data": {
      "text/plain": [
       "\"Determinant, 3 term(s).\""
      ]
     },
     "metadata": {},
     "output_type": "display_data"
    },
    {
     "data": {
      "text/latex": [
       "$c_{1} C_{2} + c_{1} c_{2} + f_{1} C_{2}$"
      ],
      "text/plain": [
       "c₁⋅C₂ + c₁⋅c₂ + f₁⋅C₂"
      ]
     },
     "metadata": {},
     "output_type": "display_data"
    },
    {
     "data": {
      "text/plain": [
       "\"n = 3\""
      ]
     },
     "metadata": {},
     "output_type": "display_data"
    },
    {
     "data": {
      "text/latex": [
       "$\\left[ \\begin{array}{rrr}F_{1} + c_{1} + f_{1}&- f_{1}&- F_{1}\\\\- c_{2}&C_{2} + c_{2} + f_{2}&- f_{2}\\\\- C_{3}&- c_{3}&C_{3} + c_{3}\\end{array}\\right]$\n"
      ],
      "text/plain": [
       "3×3 Matrix{Sym}:\n",
       " F₁ + c₁ + f₁             -f₁       -F₁\n",
       "            -c₂  C₂ + c₂ + f₂       -f₂\n",
       "            -C₃             -c₃  C₃ + c₃"
      ]
     },
     "metadata": {},
     "output_type": "display_data"
    },
    {
     "data": {
      "text/plain": [
       "\"Determinant, 8 term(s).\""
      ]
     },
     "metadata": {},
     "output_type": "display_data"
    },
    {
     "data": {
      "text/latex": [
       "$F_{1} C_{2} c_{3} + c_{1} C_{2} C_{3} + c_{1} C_{2} c_{3} + c_{1} c_{2} C_{3} + c_{1} c_{2} c_{3} + c_{1} f_{2} C_{3} + f_{1} C_{2} C_{3} + f_{1} C_{2} c_{3}$"
      ],
      "text/plain": [
       "F₁⋅C₂⋅c₃ + c₁⋅C₂⋅C₃ + c₁⋅C₂⋅c₃ + c₁⋅c₂⋅C₃ + c₁⋅c₂⋅c₃ + c₁⋅f₂⋅C₃ + f₁⋅C₂⋅C₃ + f\n",
       "₁⋅C₂⋅c₃"
      ]
     },
     "metadata": {},
     "output_type": "display_data"
    },
    {
     "data": {
      "text/plain": [
       "\"n = 4\""
      ]
     },
     "metadata": {},
     "output_type": "display_data"
    },
    {
     "data": {
      "text/latex": [
       "$\\left[ \\begin{array}{rrrr}F_{1} + c_{1} + f_{1}&- f_{1}&- F_{1}&0\\\\- c_{2}&C_{2} + F_{2} + c_{2} + f_{2}&- f_{2}&- F_{2}\\\\- C_{3}&- c_{3}&C_{3} + c_{3} + f_{3}&- f_{3}\\\\0&- C_{4}&- c_{4}&C_{4} + c_{4}\\end{array}\\right]$\n"
      ],
      "text/plain": [
       "4×4 Matrix{Sym}:\n",
       " F₁ + c₁ + f₁                   -f₁             -F₁          0\n",
       "            -c₂  C₂ + F₂ + c₂ + f₂             -f₂       -F₂\n",
       "            -C₃                   -c₃  C₃ + c₃ + f₃       -f₃\n",
       "               0                   -C₄             -c₄  C₄ + c₄"
      ]
     },
     "metadata": {},
     "output_type": "display_data"
    },
    {
     "data": {
      "text/plain": [
       "\"Determinant, 21 term(s).\""
      ]
     },
     "metadata": {},
     "output_type": "display_data"
    },
    {
     "data": {
      "text/latex": [
       "$F_{1} C_{2} c_{3} C_{4} + F_{1} C_{2} c_{3} c_{4} + F_{1} C_{2} f_{3} C_{4} + c_{1} C_{2} C_{3} C_{4} + c_{1} C_{2} C_{3} c_{4} + c_{1} C_{2} c_{3} C_{4} + c_{1} C_{2} c_{3} c_{4} + c_{1} C_{2} f_{3} C_{4} + c_{1} F_{2} C_{3} c_{4} + c_{1} c_{2} C_{3} C_{4} + c_{1} c_{2} C_{3} c_{4} + c_{1} c_{2} c_{3} C_{4} + c_{1} c_{2} c_{3} c_{4} + c_{1} c_{2} f_{3} C_{4} + c_{1} f_{2} C_{3} C_{4} + c_{1} f_{2} C_{3} c_{4} + f_{1} C_{2} C_{3} C_{4} + f_{1} C_{2} C_{3} c_{4} + f_{1} C_{2} c_{3} C_{4} + f_{1} C_{2} c_{3} c_{4} + f_{1} C_{2} f_{3} C_{4}$"
      ],
      "text/plain": [
       "F₁⋅C₂⋅c₃⋅C₄ + F₁⋅C₂⋅c₃⋅c₄ + F₁⋅C₂⋅f₃⋅C₄ + c₁⋅C₂⋅C₃⋅C₄ + c₁⋅C₂⋅C₃⋅c₄ + c₁⋅C₂⋅c₃\n",
       "⋅C₄ + c₁⋅C₂⋅c₃⋅c₄ + c₁⋅C₂⋅f₃⋅C₄ + c₁⋅F₂⋅C₃⋅c₄ + c₁⋅c₂⋅C₃⋅C₄ + c₁⋅c₂⋅C₃⋅c₄ + c₁\n",
       "⋅c₂⋅c₃⋅C₄ + c₁⋅c₂⋅c₃⋅c₄ + c₁⋅c₂⋅f₃⋅C₄ + c₁⋅f₂⋅C₃⋅C₄ + c₁⋅f₂⋅C₃⋅c₄ + f₁⋅C₂⋅C₃⋅C\n",
       "₄ + f₁⋅C₂⋅C₃⋅c₄ + f₁⋅C₂⋅c₃⋅C₄ + f₁⋅C₂⋅c₃⋅c₄ + f₁⋅C₂⋅f₃⋅C₄"
      ]
     },
     "metadata": {},
     "output_type": "display_data"
    }
   ],
   "source": [
    "for n in 1:4\n",
    "    matrix = gen_matrix(n)\n",
    "    deter = matrix |> det |> SymbolicUtils.expand |> PyObject |> order_indices\n",
    "    matrix = matrix |> PyObject\n",
    "    numArgs = deter.args |> x -> length(x) + (n == 1)\n",
    "    display(\"n = $n\")\n",
    "    display(matrix)\n",
    "    display(\"Determinant, $numArgs term(s).\")\n",
    "    display(deter)\n",
    "end"
   ]
  },
  {
   "cell_type": "code",
   "execution_count": null,
   "metadata": {},
   "outputs": [],
   "source": [
    "for n in 2:4\n",
    "    matrix = gen_matrix(n)\n",
    "    adjug = matrix |> adjugate |> PyObject |> x -> x.subs(big_dict(n)) .|> order_indices\n",
    "    # entry = adjug[4, 1] |> PyObject |> order_indices\n",
    "    # numArgs = n == 2 ? 1 : entry.args |> x -> length(x)\n",
    "    # display(\"n = $n -- Adjugate Entry (4,1), $numArgs term(s).\")\n",
    "    display(adjug)\n",
    "end"
   ]
  }
 ],
 "metadata": {
  "kernelspec": {
   "display_name": "Julia 1.8.5",
   "language": "julia",
   "name": "julia-1.8"
  },
  "language_info": {
   "file_extension": ".jl",
   "mimetype": "application/julia",
   "name": "julia",
   "version": "1.8.5"
  },
  "orig_nbformat": 4
 },
 "nbformat": 4,
 "nbformat_minor": 2
}
