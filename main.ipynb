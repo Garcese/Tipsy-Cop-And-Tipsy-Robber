{
 "cells": [
  {
   "cell_type": "code",
   "execution_count": null,
   "metadata": {},
   "outputs": [],
   "source": [
    "# Modules\n",
    "using Pkg\n",
    "using InvertedIndices\n",
    "    Not = InvertedIndices.Not # conflicts with SymPy \"Not()\"\n",
    "using Latexify\n",
    "using LinearAlgebra\n",
    "using Revise\n",
    "using Symbolics\n",
    "using SymPy\n",
    "\n",
    "# My Modules#\n",
    "includet(\"graphs.jl\")\n",
    "includet(\"helper.jl\")\n",
    "includet(\"matrix.jl\")\n",
    "includet(\"simulation.jl\")"
   ]
  },
  {
   "cell_type": "code",
   "execution_count": 37,
   "metadata": {},
   "outputs": [
    {
     "data": {
      "text/latex": [
       "$$ \\begin{equation}\n",
       "S_3^{2} S_1 + C_4 S_3 + S_2^{4} + S_3 c_4 + S_2^{3} C_2 S_1 + S_2^{2} C_4 S_1 + S_2^{3} S_1 c_2 + S_2^{2} S_1 c_4 + C_3 C_4 S_2 + C_3 S_2 c_4 + C_4 S_2 c_3 + S_2 c_3 c_4 + C_2 C_3 C_4 S_1 + C_2 C_4 S_1 c_3 + C_2 C_3 S_1 c_4 + C_2 S_1 c_3 c_4 + C_3 C_4 S_1 c_2 + C_4 S_1 c_2 c_3 + C_3 S_1 c_2 c_4 + S_1 c_2 c_3 c_4 + S_4\n",
       "\\end{equation}\n",
       " $$"
      ],
      "text/plain": [
       "(S[3]^2)*S[1] + C[4]*S[3] + S[2]^4 + S[3]*c[4] + (S[2]^3)*C[2]*S[1] + (S[2]^2)*C[4]*S[1] + (S[2]^3)*S[1]*c[2] + (S[2]^2)*S[1]*c[4] + C[3]*C[4]*S[2] + C[3]*S[2]*c[4] + C[4]*S[2]*c[3] + S[2]*c[3]*c[4] + C[2]*C[3]*C[4]*S[1] + C[2]*C[4]*S[1]*c[3] + C[2]*C[3]*S[1]*c[4] + C[2]*S[1]*c[3]*c[4] + C[3]*C[4]*S[1]*c[2] + C[4]*S[1]*c[2]*c[3] + C[3]*S[1]*c[2]*c[4] + S[1]*c[2]*c[3]*c[4] + S[4]"
      ]
     },
     "metadata": {},
     "output_type": "display_data"
    }
   ],
   "source": [
    "gen_det(4, symbolic = true)"
   ]
  },
  {
   "cell_type": "code",
   "execution_count": null,
   "metadata": {},
   "outputs": [],
   "source": [
    "for n in 4:8\n",
    "    matrix = gen_matrix(n)\n",
    "    adjug = matrix |> adjugate\n",
    "    entry = adjug[4, 1] |> PyObject |> order_indices\n",
    "    numArgs = n == 2 ? 1 : entry.args |> x -> length(x)\n",
    "    display(\"n = $n -- Adjugate Entry (4,1), $numArgs term(s).\")\n",
    "    display(entry)\n",
    "end"
   ]
  },
  {
   "cell_type": "code",
   "execution_count": null,
   "metadata": {},
   "outputs": [],
   "source": [
    "for n in 1:6\n",
    "    matrix = gen_matrix(n)\n",
    "    deter = matrix |> det |> SymbolicUtils.expand |> PyObject |> order_indices\n",
    "    # adjug = matrix |> adjugate |> PyObject .|> order_indices\n",
    "    matrix = matrix |> PyObject\n",
    "    numArgs = deter.args |> x -> length(x) + (n == 1)\n",
    "    display(\"n = $n\")\n",
    "    display(matrix)\n",
    "    # display(\"Adjugate.\")\n",
    "    # display(adjug)\n",
    "    display(\"Determinant, $numArgs term(s).\")\n",
    "    display(deter)\n",
    "end"
   ]
  },
  {
   "cell_type": "code",
   "execution_count": 21,
   "metadata": {},
   "outputs": [
    {
     "data": {
      "text/plain": [
       "\"n = 1\""
      ]
     },
     "metadata": {},
     "output_type": "display_data"
    },
    {
     "data": {
      "text/latex": [
       "$c_{1}$"
      ],
      "text/plain": [
       "c_1"
      ]
     },
     "metadata": {},
     "output_type": "display_data"
    },
    {
     "data": {
      "text/plain": [
       "\"n = 2\""
      ]
     },
     "metadata": {},
     "output_type": "display_data"
    },
    {
     "data": {
      "text/latex": [
       "$c_{1} C_{2} + c_{1} c_{2} + f_{1} C_{2}$"
      ],
      "text/plain": [
       "c_1*C_2 + c_1*c_2 + f_1*C_2"
      ]
     },
     "metadata": {},
     "output_type": "display_data"
    },
    {
     "data": {
      "text/plain": [
       "\"n = 3\""
      ]
     },
     "metadata": {},
     "output_type": "display_data"
    },
    {
     "data": {
      "text/latex": [
       "$F_{1} C_{2} c_{3} + c_{1} C_{2} C_{3} + c_{1} C_{2} c_{3} + c_{1} c_{2} C_{3} + c_{1} c_{2} c_{3} + c_{1} f_{2} C_{3} + f_{1} C_{2} C_{3} + f_{1} C_{2} c_{3}$"
      ],
      "text/plain": [
       "F_1*C_2*c_3 + c_1*C_2*C_3 + c_1*C_2*c_3 + c_1*c_2*C_3 + c_1*c_2*c_3 + c_1*f_2*\n",
       "C_3 + f_1*C_2*C_3 + f_1*C_2*c_3"
      ]
     },
     "metadata": {},
     "output_type": "display_data"
    },
    {
     "data": {
      "text/plain": [
       "\"n = 4\""
      ]
     },
     "metadata": {},
     "output_type": "display_data"
    },
    {
     "data": {
      "text/latex": [
       "$F_{1} C_{2} c_{3} C_{4} + F_{1} C_{2} c_{3} c_{4} + F_{1} C_{2} f_{3} C_{4} + c_{1} C_{2} C_{3} C_{4} + c_{1} C_{2} C_{3} c_{4} + c_{1} C_{2} c_{3} C_{4} + c_{1} C_{2} c_{3} c_{4} + c_{1} C_{2} f_{3} C_{4} + c_{1} F_{2} C_{3} c_{4} + c_{1} c_{2} C_{3} C_{4} + c_{1} c_{2} C_{3} c_{4} + c_{1} c_{2} c_{3} C_{4} + c_{1} c_{2} c_{3} c_{4} + c_{1} c_{2} f_{3} C_{4} + c_{1} f_{2} C_{3} C_{4} + c_{1} f_{2} C_{3} c_{4} + f_{1} C_{2} C_{3} C_{4} + f_{1} C_{2} C_{3} c_{4} + f_{1} C_{2} c_{3} C_{4} + f_{1} C_{2} c_{3} c_{4} + f_{1} C_{2} f_{3} C_{4}$"
      ],
      "text/plain": [
       "F_1*C_2*c_3*C_4 + F_1*C_2*c_3*c_4 + F_1*C_2*f_3*C_4 + c_1*C_2*C_3*C_4 + c_1*C_\n",
       "2*C_3*c_4 + c_1*C_2*c_3*C_4 + c_1*C_2*c_3*c_4 + c_1*C_2*f_3*C_4 + c_1*F_2*C_3*\n",
       "c_4 + c_1*c_2*C_3*C_4 + c_1*c_2*C_3*c_4 + c_1*c_2*c_3*C_4 + c_1*c_2*c_3*c_4 + \n",
       "c_1*c_2*f_3*C_4 + c_1*f_2*C_3*C_4 + c_1*f_2*C_3*c_4 + f_1*C_2*C_3*C_4 + f_1*C_\n",
       "2*C_3*c_4 + f_1*C_2*c_3*C_4 + f_1*C_2*c_3*c_4 + f_1*C_2*f_3*C_4"
      ]
     },
     "metadata": {},
     "output_type": "display_data"
    }
   ],
   "source": [
    "@variables C[1:10] c[1:10] f[1:10] F[1:10]\n",
    "# prods = [c[1]]\n",
    "for n in 1:4\n",
    "    # push!(prods, C[n] + c[n])\n",
    "    # products = prod(prods) |> Symbolics.expand\n",
    "    deter = gen_matrix(n) |> det |> Symbolics.expand\n",
    "    # deter2 = deter - (gen_matrix(n - 1) |> det |> x -> x*(C[n] + c[n]) |> Symbolics.expand) |> Symbolics.simplify\n",
    "    # deter2 = deter -  products\n",
    "    # deter2 = deter2 - (gen_matrix(n - 5) |> det |> x -> x*(F[n-4]*C[n-3]*F[n-2]*C[n-1]*c[n]) |> Symbolics.expand) \n",
    "    # deter2 = deter2 - (gen_matrix(n - 4) |> det |> x -> x*(F[n-3]*C[n-2]*f[n-1]*C[n]) |> Symbolics.expand) \n",
    "    # deter2 = deter2 - (gen_matrix(n - 3) |> det |> x -> x*(F[n-2]*C[n-1]*c[n]) |> Symbolics.expand) \n",
    "    # deter2 = deter2 - (gen_matrix(n - 2) |> det |> x -> x*(f[n-1]*C[n]) |> Symbolics.expand) |> Symbolics.simplify\n",
    "    # deter2 = deter2 |> PyObject |> x -> sympy.collect(x, [\"f_$(n-1)*C_$n\", \"F_$(n-2)*C_$(n-1)*c_$n\"]) |> order_indices\n",
    "    deter = deter |> PyObject |> order_indices\n",
    "    # deter2 = deter2 |> PyObject |> order_indices\n",
    "    display(\"n = $n\")\n",
    "    display(deter)\n",
    "    # display(deter2)\n",
    "end"
   ]
  }
 ],
 "metadata": {
  "kernelspec": {
   "display_name": "Julia 1.8.2",
   "language": "julia",
   "name": "julia-1.8"
  },
  "language_info": {
   "file_extension": ".jl",
   "mimetype": "application/julia",
   "name": "julia",
   "version": "1.8.2"
  },
  "orig_nbformat": 4
 },
 "nbformat": 4,
 "nbformat_minor": 2
}
