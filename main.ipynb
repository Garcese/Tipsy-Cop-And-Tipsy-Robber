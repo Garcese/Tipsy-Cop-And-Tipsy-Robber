{
 "cells": [
  {
   "cell_type": "code",
   "execution_count": null,
   "metadata": {},
   "outputs": [],
   "source": [
    "# Modules\n",
    "using Pkg\n",
    "import Cairo, Fontconfig\n",
    "using Compose\n",
    "using Graphs\n",
    "    Graph = Graphs.Graph\n",
    "using GraphPlot\n",
    "using InvertedIndices\n",
    "    Not = InvertedIndices.Not # conflicts with SymPy \"Not()\"\n",
    "using Latexify\n",
    "using LinearAlgebra\n",
    "using Plots\n",
    "using Printf\n",
    "using Revise\n",
    "using Symbolics\n",
    "    simplify = Symbolics.simplify\n",
    "using SymPy\n",
    "\n",
    "# My Modules#\n",
    "includet(\"graphs.jl\")\n",
    "includet(\"helper.jl\")\n",
    "includet(\"matrix.jl\")\n",
    "includet(\"simulation.jl\")"
   ]
  },
  {
   "cell_type": "code",
   "execution_count": null,
   "metadata": {},
   "outputs": [],
   "source": [
    "for i in 1:9\n",
    "    gen_det(i, symbolic = true, Xs = true) |> PyObject |> \n",
    "    x -> sympy.collect(x, [\"S_1ˏ_1\", \"S_2ˏ_1\", \"S_3ˏ_1\", \"S_4ˏ_1\", \"S_5ˏ_1\", \"S_6ˏ_1\"]) |> \n",
    "    display \n",
    "end"
   ]
  },
  {
   "cell_type": "code",
   "execution_count": null,
   "metadata": {},
   "outputs": [],
   "source": [
    "for n in 1:4\n",
    "    matrix = gen_matrix(n)\n",
    "    deter = matrix |> det |> SymbolicUtils.expand |> PyObject |> order_indices\n",
    "    matrix = matrix |> PyObject\n",
    "    numArgs = deter.args |> x -> length(x) + (n == 1)\n",
    "    display(\"n = $n\")\n",
    "    display(matrix)\n",
    "    display(\"Determinant, $numArgs term(s).\")\n",
    "    display(deter)\n",
    "end"
   ]
  },
  {
   "cell_type": "code",
   "execution_count": null,
   "metadata": {},
   "outputs": [],
   "source": [
    "for n in 2:4\n",
    "    matrix = gen_matrix(n)\n",
    "    adjug = matrix |> adjugate |> PyObject |> x -> x.subs(big_dict(n)) .|> order_indices\n",
    "    # entry = adjug[4, 1] |> PyObject |> order_indices\n",
    "    # numArgs = n == 2 ? 1 : entry.args |> x -> length(x)\n",
    "    # display(\"n = $n -- Adjugate Entry (4,1), $numArgs term(s).\")\n",
    "    display(adjug)\n",
    "end"
   ]
  }
 ],
 "metadata": {
  "kernelspec": {
   "display_name": "Julia 1.8.5",
   "language": "julia",
   "name": "julia-1.8"
  },
  "language_info": {
   "file_extension": ".jl",
   "mimetype": "application/julia",
   "name": "julia",
   "version": "1.8.5"
  },
  "orig_nbformat": 4
 },
 "nbformat": 4,
 "nbformat_minor": 2
}
